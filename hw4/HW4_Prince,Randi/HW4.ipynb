{
 "cells": [
  {
   "cell_type": "markdown",
   "id": "d3a9e292",
   "metadata": {},
   "source": [
    "# Part 3: Analysis"
   ]
  },
  {
   "cell_type": "code",
   "execution_count": 19,
   "id": "2cc0ae7d",
   "metadata": {},
   "outputs": [],
   "source": [
    "import pandas as pd\n",
    "import seaborn as sns\n",
    "import statsmodels.formula.api as sm\n",
    "import numpy as np\n",
    "import matplotlib.pyplot as plt"
   ]
  },
  {
   "cell_type": "markdown",
   "id": "319647e7",
   "metadata": {},
   "source": [
    "## Uniform Data"
   ]
  },
  {
   "cell_type": "code",
   "execution_count": 20,
   "id": "8a2e4647",
   "metadata": {},
   "outputs": [],
   "source": [
    "dfUniform = pd.read_csv(\"uniformData.csv\")"
   ]
  },
  {
   "cell_type": "code",
   "execution_count": 21,
   "id": "62f4112f",
   "metadata": {},
   "outputs": [],
   "source": [
    "kData = dfUniform[(dfUniform[\"n\"] == 100000) & (dfUniform[\"dimension\"] == 2)]\n",
    "nData = dfUniform[(dfUniform[\"k\"] == 16) & (dfUniform[\"dimension\"] == 2)]\n",
    "dimData = dfUniform[(dfUniform[\"n\"] == 100000) & (dfUniform[\"k\"] == 16)]"
   ]
  },
  {
   "cell_type": "markdown",
   "id": "f72f25d8",
   "metadata": {},
   "source": [
    "### Plot with variance in K"
   ]
  },
  {
   "cell_type": "code",
   "execution_count": 22,
   "id": "274b253b",
   "metadata": {},
   "outputs": [
    {
     "data": {
      "text/plain": [
       "structureName\n",
       "bucketKNN    Axes(0.125,0.11;0.775x0.77)\n",
       "dumbKNN      Axes(0.125,0.11;0.775x0.77)\n",
       "kdTree       Axes(0.125,0.11;0.775x0.77)\n",
       "quadTree     Axes(0.125,0.11;0.775x0.77)\n",
       "Name: time, dtype: object"
      ]
     },
     "execution_count": 22,
     "metadata": {},
     "output_type": "execute_result"
    },
    {
     "data": {
      "image/png": "[encoded data removed]",
      "text/plain": [
       "<Figure size 640x480 with 1 Axes>"
      ]
     },
     "metadata": {},
     "output_type": "display_data"
    }
   ],
   "source": [
    "kData.set_index(\"k\").groupby(\"structureName\")[\"time\"].plot(legend=True)"
   ]
  },
  {
   "cell_type": "code",
   "execution_count": 23,
   "id": "197e5cc5",
   "metadata": {},
   "outputs": [
    {
     "data": {
      "text/html": [
       "<table class=\"simpletable\">\n",
       "<caption>OLS Regression Results</caption>\n",
       "<tr>\n",
       "  <th>Dep. Variable:</th>          <td>time</td>       <th>  R-squared:         </th> <td>   0.834</td>\n",
       "</tr>\n",
       "<tr>\n",
       "  <th>Model:</th>                   <td>OLS</td>       <th>  Adj. R-squared:    </th> <td>   0.789</td>\n",
       "</tr>\n",
       "<tr>\n",
       "  <th>Method:</th>             <td>Least Squares</td>  <th>  F-statistic:       </th> <td>   18.81</td>\n",
       "</tr>\n",
       "<tr>\n",
       "  <th>Date:</th>             <td>Mon, 03 Jul 2023</td> <th>  Prob (F-statistic):</th> <td>1.04e-05</td>\n",
       "</tr>\n",
       "<tr>\n",
       "  <th>Time:</th>                 <td>14:16:51</td>     <th>  Log-Likelihood:    </th> <td> -281.56</td>\n",
       "</tr>\n",
       "<tr>\n",
       "  <th>No. Observations:</th>      <td>    20</td>      <th>  AIC:               </th> <td>   573.1</td>\n",
       "</tr>\n",
       "<tr>\n",
       "  <th>Df Residuals:</th>          <td>    15</td>      <th>  BIC:               </th> <td>   578.1</td>\n",
       "</tr>\n",
       "<tr>\n",
       "  <th>Df Model:</th>              <td>     4</td>      <th>                     </th>     <td> </td>   \n",
       "</tr>\n",
       "<tr>\n",
       "  <th>Covariance Type:</th>      <td>nonrobust</td>    <th>                     </th>     <td> </td>   \n",
       "</tr>\n",
       "</table>\n",
       "<table class=\"simpletable\">\n",
       "<tr>\n",
       "              <td></td>                 <th>coef</th>     <th>std err</th>      <th>t</th>      <th>P>|t|</th>  <th>[0.025</th>    <th>0.975]</th>  \n",
       "</tr>\n",
       "<tr>\n",
       "  <th>Intercept</th>                 <td>-4.013e+05</td> <td>  2.1e+05</td> <td>   -1.913</td> <td> 0.075</td> <td>-8.48e+05</td> <td> 4.58e+04</td>\n",
       "</tr>\n",
       "<tr>\n",
       "  <th>structureName[T.dumbKNN]</th>  <td> 4.298e+05</td> <td>  2.3e+05</td> <td>    1.870</td> <td> 0.081</td> <td>   -6e+04</td> <td>  9.2e+05</td>\n",
       "</tr>\n",
       "<tr>\n",
       "  <th>structureName[T.kdTree]</th>   <td> 3.217e+04</td> <td>  2.3e+05</td> <td>    0.140</td> <td> 0.891</td> <td>-4.58e+05</td> <td> 5.22e+05</td>\n",
       "</tr>\n",
       "<tr>\n",
       "  <th>structureName[T.quadTree]</th> <td> 1.617e+06</td> <td>  2.3e+05</td> <td>    7.037</td> <td> 0.000</td> <td> 1.13e+06</td> <td> 2.11e+06</td>\n",
       "</tr>\n",
       "<tr>\n",
       "  <th>k</th>                         <td> 5.268e+04</td> <td> 1.66e+04</td> <td>    3.176</td> <td> 0.006</td> <td> 1.73e+04</td> <td>  8.8e+04</td>\n",
       "</tr>\n",
       "</table>\n",
       "<table class=\"simpletable\">\n",
       "<tr>\n",
       "  <th>Omnibus:</th>       <td> 2.071</td> <th>  Durbin-Watson:     </th> <td>   0.701</td>\n",
       "</tr>\n",
       "<tr>\n",
       "  <th>Prob(Omnibus):</th> <td> 0.355</td> <th>  Jarque-Bera (JB):  </th> <td>   0.640</td>\n",
       "</tr>\n",
       "<tr>\n",
       "  <th>Skew:</th>          <td>-0.253</td> <th>  Prob(JB):          </th> <td>   0.726</td>\n",
       "</tr>\n",
       "<tr>\n",
       "  <th>Kurtosis:</th>      <td> 3.716</td> <th>  Cond. No.          </th> <td>    41.8</td>\n",
       "</tr>\n",
       "</table><br/><br/>Notes:<br/>[1] Standard Errors assume that the covariance matrix of the errors is correctly specified."
      ],
      "text/latex": [
       "\\begin{center}\n",
       "\\begin{tabular}{lclc}\n",
       "\\toprule\n",
       "\\textbf{Dep. Variable:}            &       time       & \\textbf{  R-squared:         } &     0.834   \\\\\n",
       "\\textbf{Model:}                    &       OLS        & \\textbf{  Adj. R-squared:    } &     0.789   \\\\\n",
       "\\textbf{Method:}                   &  Least Squares   & \\textbf{  F-statistic:       } &     18.81   \\\\\n",
       "\\textbf{Date:}                     & Mon, 03 Jul 2023 & \\textbf{  Prob (F-statistic):} &  1.04e-05   \\\\\n",
       "\\textbf{Time:}                     &     14:16:51     & \\textbf{  Log-Likelihood:    } &   -281.56   \\\\\n",
       "\\textbf{No. Observations:}         &          20      & \\textbf{  AIC:               } &     573.1   \\\\\n",
       "\\textbf{Df Residuals:}             &          15      & \\textbf{  BIC:               } &     578.1   \\\\\n",
       "\\textbf{Df Model:}                 &           4      & \\textbf{                     } &             \\\\\n",
       "\\textbf{Covariance Type:}          &    nonrobust     & \\textbf{                     } &             \\\\\n",
       "\\bottomrule\n",
       "\\end{tabular}\n",
       "\\begin{tabular}{lcccccc}\n",
       "                                   & \\textbf{coef} & \\textbf{std err} & \\textbf{t} & \\textbf{P$> |$t$|$} & \\textbf{[0.025} & \\textbf{0.975]}  \\\\\n",
       "\\midrule\n",
       "\\textbf{Intercept}                 &   -4.013e+05  &      2.1e+05     &    -1.913  &         0.075        &    -8.48e+05    &     4.58e+04     \\\\\n",
       "\\textbf{structureName[T.dumbKNN]}  &    4.298e+05  &      2.3e+05     &     1.870  &         0.081        &       -6e+04    &      9.2e+05     \\\\\n",
       "\\textbf{structureName[T.kdTree]}   &    3.217e+04  &      2.3e+05     &     0.140  &         0.891        &    -4.58e+05    &     5.22e+05     \\\\\n",
       "\\textbf{structureName[T.quadTree]} &    1.617e+06  &      2.3e+05     &     7.037  &         0.000        &     1.13e+06    &     2.11e+06     \\\\\n",
       "\\textbf{k}                         &    5.268e+04  &     1.66e+04     &     3.176  &         0.006        &     1.73e+04    &      8.8e+04     \\\\\n",
       "\\bottomrule\n",
       "\\end{tabular}\n",
       "\\begin{tabular}{lclc}\n",
       "\\textbf{Omnibus:}       &  2.071 & \\textbf{  Durbin-Watson:     } &    0.701  \\\\\n",
       "\\textbf{Prob(Omnibus):} &  0.355 & \\textbf{  Jarque-Bera (JB):  } &    0.640  \\\\\n",
       "\\textbf{Skew:}          & -0.253 & \\textbf{  Prob(JB):          } &    0.726  \\\\\n",
       "\\textbf{Kurtosis:}      &  3.716 & \\textbf{  Cond. No.          } &     41.8  \\\\\n",
       "\\bottomrule\n",
       "\\end{tabular}\n",
       "%\\caption{OLS Regression Results}\n",
       "\\end{center}\n",
       "\n",
       "Notes: \\newline\n",
       " [1] Standard Errors assume that the covariance matrix of the errors is correctly specified."
      ],
      "text/plain": [
       "<class 'statsmodels.iolib.summary.Summary'>\n",
       "\"\"\"\n",
       "                            OLS Regression Results                            \n",
       "==============================================================================\n",
       "Dep. Variable:                   time   R-squared:                       0.834\n",
       "Model:                            OLS   Adj. R-squared:                  0.789\n",
       "Method:                 Least Squares   F-statistic:                     18.81\n",
       "Date:                Mon, 03 Jul 2023   Prob (F-statistic):           1.04e-05\n",
       "Time:                        14:16:51   Log-Likelihood:                -281.56\n",
       "No. Observations:                  20   AIC:                             573.1\n",
       "Df Residuals:                      15   BIC:                             578.1\n",
       "Df Model:                           4                                         \n",
       "Covariance Type:            nonrobust                                         \n",
       "=============================================================================================\n",
       "                                coef    std err          t      P>|t|      [0.025      0.975]\n",
       "---------------------------------------------------------------------------------------------\n",
       "Intercept                 -4.013e+05    2.1e+05     -1.913      0.075   -8.48e+05    4.58e+04\n",
       "structureName[T.dumbKNN]   4.298e+05    2.3e+05      1.870      0.081      -6e+04     9.2e+05\n",
       "structureName[T.kdTree]    3.217e+04    2.3e+05      0.140      0.891   -4.58e+05    5.22e+05\n",
       "structureName[T.quadTree]  1.617e+06    2.3e+05      7.037      0.000    1.13e+06    2.11e+06\n",
       "k                          5.268e+04   1.66e+04      3.176      0.006    1.73e+04     8.8e+04\n",
       "==============================================================================\n",
       "Omnibus:                        2.071   Durbin-Watson:                   0.701\n",
       "Prob(Omnibus):                  0.355   Jarque-Bera (JB):                0.640\n",
       "Skew:                          -0.253   Prob(JB):                        0.726\n",
       "Kurtosis:                       3.716   Cond. No.                         41.8\n",
       "==============================================================================\n",
       "\n",
       "Notes:\n",
       "[1] Standard Errors assume that the covariance matrix of the errors is correctly specified.\n",
       "\"\"\""
      ]
     },
     "execution_count": 23,
     "metadata": {},
     "output_type": "execute_result"
    }
   ],
   "source": [
    "kDataResult = sm.ols(formula=\"time ~ k + structureName\", data=kData).fit()\n",
    "kDataResult.summary()"
   ]
  },
  {
   "cell_type": "markdown",
   "id": "ba85c7b7",
   "metadata": {},
   "source": [
    "### Plot with variance in N"
   ]
  },
  {
   "cell_type": "code",
   "execution_count": 24,
   "id": "20ce22ac",
   "metadata": {},
   "outputs": [
    {
     "data": {
      "text/plain": [
       "structureName\n",
       "bucketKNN    Axes(0.125,0.11;0.775x0.77)\n",
       "dumbKNN      Axes(0.125,0.11;0.775x0.77)\n",
       "kdTree       Axes(0.125,0.11;0.775x0.77)\n",
       "quadTree     Axes(0.125,0.11;0.775x0.77)\n",
       "Name: time, dtype: object"
      ]
     },
     "execution_count": 24,
     "metadata": {},
     "output_type": "execute_result"
    },
    {
     "data": {
      "image/png": "[encoded data removed]",
      "text/plain": [
       "<Figure size 640x480 with 1 Axes>"
      ]
     },
     "metadata": {},
     "output_type": "display_data"
    }
   ],
   "source": [
    "nData.set_index(\"n\").groupby(\"structureName\")[\"time\"].plot(legend=True)"
   ]
  },
  {
   "cell_type": "code",
   "execution_count": 26,
   "id": "586ca7a2",
   "metadata": {},
   "outputs": [
    {
     "name": "stderr",
     "output_type": "stream",
     "text": [
      "/Library/Frameworks/Python.framework/Versions/3.11/lib/python3.11/site-packages/scipy/stats/_stats_py.py:1736: UserWarning: kurtosistest only valid for n>=20 ... continuing anyway, n=16\n",
      "  warnings.warn(\"kurtosistest only valid for n>=20 ... continuing \"\n"
     ]
    },
    {
     "data": {
      "text/html": [
       "<table class=\"simpletable\">\n",
       "<caption>OLS Regression Results</caption>\n",
       "<tr>\n",
       "  <th>Dep. Variable:</th>          <td>time</td>       <th>  R-squared:         </th> <td>   0.524</td>\n",
       "</tr>\n",
       "<tr>\n",
       "  <th>Model:</th>                   <td>OLS</td>       <th>  Adj. R-squared:    </th> <td>   0.351</td>\n",
       "</tr>\n",
       "<tr>\n",
       "  <th>Method:</th>             <td>Least Squares</td>  <th>  F-statistic:       </th> <td>   3.026</td>\n",
       "</tr>\n",
       "<tr>\n",
       "  <th>Date:</th>             <td>Mon, 03 Jul 2023</td> <th>  Prob (F-statistic):</th>  <td>0.0655</td> \n",
       "</tr>\n",
       "<tr>\n",
       "  <th>Time:</th>                 <td>14:18:56</td>     <th>  Log-Likelihood:    </th> <td> -231.37</td>\n",
       "</tr>\n",
       "<tr>\n",
       "  <th>No. Observations:</th>      <td>    16</td>      <th>  AIC:               </th> <td>   472.7</td>\n",
       "</tr>\n",
       "<tr>\n",
       "  <th>Df Residuals:</th>          <td>    11</td>      <th>  BIC:               </th> <td>   476.6</td>\n",
       "</tr>\n",
       "<tr>\n",
       "  <th>Df Model:</th>              <td>     4</td>      <th>                     </th>     <td> </td>   \n",
       "</tr>\n",
       "<tr>\n",
       "  <th>Covariance Type:</th>      <td>nonrobust</td>    <th>                     </th>     <td> </td>   \n",
       "</tr>\n",
       "</table>\n",
       "<table class=\"simpletable\">\n",
       "<tr>\n",
       "              <td></td>                 <th>coef</th>     <th>std err</th>      <th>t</th>      <th>P>|t|</th>  <th>[0.025</th>    <th>0.975]</th>  \n",
       "</tr>\n",
       "<tr>\n",
       "  <th>Intercept</th>                 <td>-2.189e+05</td> <td> 2.93e+05</td> <td>   -0.747</td> <td> 0.471</td> <td>-8.64e+05</td> <td> 4.26e+05</td>\n",
       "</tr>\n",
       "<tr>\n",
       "  <th>structureName[T.dumbKNN]</th>  <td> 1.805e+05</td> <td> 3.93e+05</td> <td>    0.459</td> <td> 0.655</td> <td>-6.85e+05</td> <td> 1.05e+06</td>\n",
       "</tr>\n",
       "<tr>\n",
       "  <th>structureName[T.kdTree]</th>   <td> 1.128e+04</td> <td> 3.93e+05</td> <td>    0.029</td> <td> 0.978</td> <td>-8.54e+05</td> <td> 8.77e+05</td>\n",
       "</tr>\n",
       "<tr>\n",
       "  <th>structureName[T.quadTree]</th> <td> 7.412e+05</td> <td> 3.93e+05</td> <td>    1.885</td> <td> 0.086</td> <td>-1.24e+05</td> <td> 1.61e+06</td>\n",
       "</tr>\n",
       "<tr>\n",
       "  <th>n</th>                         <td>    9.0259</td> <td>    3.320</td> <td>    2.718</td> <td> 0.020</td> <td>    1.718</td> <td>   16.334</td>\n",
       "</tr>\n",
       "</table>\n",
       "<table class=\"simpletable\">\n",
       "<tr>\n",
       "  <th>Omnibus:</th>       <td> 8.668</td> <th>  Durbin-Watson:     </th> <td>   1.567</td>\n",
       "</tr>\n",
       "<tr>\n",
       "  <th>Prob(Omnibus):</th> <td> 0.013</td> <th>  Jarque-Bera (JB):  </th> <td>   5.388</td>\n",
       "</tr>\n",
       "<tr>\n",
       "  <th>Skew:</th>          <td> 1.049</td> <th>  Prob(JB):          </th> <td>  0.0676</td>\n",
       "</tr>\n",
       "<tr>\n",
       "  <th>Kurtosis:</th>      <td> 4.919</td> <th>  Cond. No.          </th> <td>2.20e+05</td>\n",
       "</tr>\n",
       "</table><br/><br/>Notes:<br/>[1] Standard Errors assume that the covariance matrix of the errors is correctly specified.<br/>[2] The condition number is large, 2.2e+05. This might indicate that there are<br/>strong multicollinearity or other numerical problems."
      ],
      "text/latex": [
       "\\begin{center}\n",
       "\\begin{tabular}{lclc}\n",
       "\\toprule\n",
       "\\textbf{Dep. Variable:}            &       time       & \\textbf{  R-squared:         } &     0.524   \\\\\n",
       "\\textbf{Model:}                    &       OLS        & \\textbf{  Adj. R-squared:    } &     0.351   \\\\\n",
       "\\textbf{Method:}                   &  Least Squares   & \\textbf{  F-statistic:       } &     3.026   \\\\\n",
       "\\textbf{Date:}                     & Mon, 03 Jul 2023 & \\textbf{  Prob (F-statistic):} &   0.0655    \\\\\n",
       "\\textbf{Time:}                     &     14:18:56     & \\textbf{  Log-Likelihood:    } &   -231.37   \\\\\n",
       "\\textbf{No. Observations:}         &          16      & \\textbf{  AIC:               } &     472.7   \\\\\n",
       "\\textbf{Df Residuals:}             &          11      & \\textbf{  BIC:               } &     476.6   \\\\\n",
       "\\textbf{Df Model:}                 &           4      & \\textbf{                     } &             \\\\\n",
       "\\textbf{Covariance Type:}          &    nonrobust     & \\textbf{                     } &             \\\\\n",
       "\\bottomrule\n",
       "\\end{tabular}\n",
       "\\begin{tabular}{lcccccc}\n",
       "                                   & \\textbf{coef} & \\textbf{std err} & \\textbf{t} & \\textbf{P$> |$t$|$} & \\textbf{[0.025} & \\textbf{0.975]}  \\\\\n",
       "\\midrule\n",
       "\\textbf{Intercept}                 &   -2.189e+05  &     2.93e+05     &    -0.747  &         0.471        &    -8.64e+05    &     4.26e+05     \\\\\n",
       "\\textbf{structureName[T.dumbKNN]}  &    1.805e+05  &     3.93e+05     &     0.459  &         0.655        &    -6.85e+05    &     1.05e+06     \\\\\n",
       "\\textbf{structureName[T.kdTree]}   &    1.128e+04  &     3.93e+05     &     0.029  &         0.978        &    -8.54e+05    &     8.77e+05     \\\\\n",
       "\\textbf{structureName[T.quadTree]} &    7.412e+05  &     3.93e+05     &     1.885  &         0.086        &    -1.24e+05    &     1.61e+06     \\\\\n",
       "\\textbf{n}                         &       9.0259  &        3.320     &     2.718  &         0.020        &        1.718    &       16.334     \\\\\n",
       "\\bottomrule\n",
       "\\end{tabular}\n",
       "\\begin{tabular}{lclc}\n",
       "\\textbf{Omnibus:}       &  8.668 & \\textbf{  Durbin-Watson:     } &    1.567  \\\\\n",
       "\\textbf{Prob(Omnibus):} &  0.013 & \\textbf{  Jarque-Bera (JB):  } &    5.388  \\\\\n",
       "\\textbf{Skew:}          &  1.049 & \\textbf{  Prob(JB):          } &   0.0676  \\\\\n",
       "\\textbf{Kurtosis:}      &  4.919 & \\textbf{  Cond. No.          } & 2.20e+05  \\\\\n",
       "\\bottomrule\n",
       "\\end{tabular}\n",
       "%\\caption{OLS Regression Results}\n",
       "\\end{center}\n",
       "\n",
       "Notes: \\newline\n",
       " [1] Standard Errors assume that the covariance matrix of the errors is correctly specified. \\newline\n",
       " [2] The condition number is large, 2.2e+05. This might indicate that there are \\newline\n",
       " strong multicollinearity or other numerical problems."
      ],
      "text/plain": [
       "<class 'statsmodels.iolib.summary.Summary'>\n",
       "\"\"\"\n",
       "                            OLS Regression Results                            \n",
       "==============================================================================\n",
       "Dep. Variable:                   time   R-squared:                       0.524\n",
       "Model:                            OLS   Adj. R-squared:                  0.351\n",
       "Method:                 Least Squares   F-statistic:                     3.026\n",
       "Date:                Mon, 03 Jul 2023   Prob (F-statistic):             0.0655\n",
       "Time:                        14:18:56   Log-Likelihood:                -231.37\n",
       "No. Observations:                  16   AIC:                             472.7\n",
       "Df Residuals:                      11   BIC:                             476.6\n",
       "Df Model:                           4                                         \n",
       "Covariance Type:            nonrobust                                         \n",
       "=============================================================================================\n",
       "                                coef    std err          t      P>|t|      [0.025      0.975]\n",
       "---------------------------------------------------------------------------------------------\n",
       "Intercept                 -2.189e+05   2.93e+05     -0.747      0.471   -8.64e+05    4.26e+05\n",
       "structureName[T.dumbKNN]   1.805e+05   3.93e+05      0.459      0.655   -6.85e+05    1.05e+06\n",
       "structureName[T.kdTree]    1.128e+04   3.93e+05      0.029      0.978   -8.54e+05    8.77e+05\n",
       "structureName[T.quadTree]  7.412e+05   3.93e+05      1.885      0.086   -1.24e+05    1.61e+06\n",
       "n                             9.0259      3.320      2.718      0.020       1.718      16.334\n",
       "==============================================================================\n",
       "Omnibus:                        8.668   Durbin-Watson:                   1.567\n",
       "Prob(Omnibus):                  0.013   Jarque-Bera (JB):                5.388\n",
       "Skew:                           1.049   Prob(JB):                       0.0676\n",
       "Kurtosis:                       4.919   Cond. No.                     2.20e+05\n",
       "==============================================================================\n",
       "\n",
       "Notes:\n",
       "[1] Standard Errors assume that the covariance matrix of the errors is correctly specified.\n",
       "[2] The condition number is large, 2.2e+05. This might indicate that there are\n",
       "strong multicollinearity or other numerical problems.\n",
       "\"\"\""
      ]
     },
     "execution_count": 26,
     "metadata": {},
     "output_type": "execute_result"
    }
   ],
   "source": [
    "nDataResult = sm.ols(formula=\"time ~ n + structureName\", data=nData).fit()\n",
    "nDataResult.summary()"
   ]
  },
  {
   "cell_type": "markdown",
   "id": "b409063b",
   "metadata": {},
   "source": [
    "### Plot with variance in the dimension"
   ]
  },
  {
   "cell_type": "code",
   "execution_count": 9,
   "id": "3a0d7f19",
   "metadata": {},
   "outputs": [
    {
     "data": {
      "text/plain": [
       "structureName\n",
       "bucketKNN    Axes(0.125,0.11;0.775x0.77)\n",
       "dumbKNN      Axes(0.125,0.11;0.775x0.77)\n",
       "kdTree       Axes(0.125,0.11;0.775x0.77)\n",
       "quadTree     Axes(0.125,0.11;0.775x0.77)\n",
       "Name: time, dtype: object"
      ]
     },
     "execution_count": 9,
     "metadata": {},
     "output_type": "execute_result"
    },
    {
     "data": {
      "image/png": "[encoded data removed]",
      "text/plain": [
       "<Figure size 640x480 with 1 Axes>"
      ]
     },
     "metadata": {},
     "output_type": "display_data"
    }
   ],
   "source": [
    "dimData.set_index(\"dimension\").groupby(\"structureName\")[\"time\"].plot(legend=True)"
   ]
  },
  {
   "cell_type": "code",
   "execution_count": 27,
   "id": "a340f5a7",
   "metadata": {},
   "outputs": [
    {
     "data": {
      "text/html": [
       "<table class=\"simpletable\">\n",
       "<caption>OLS Regression Results</caption>\n",
       "<tr>\n",
       "  <th>Dep. Variable:</th>          <td>time</td>       <th>  R-squared:         </th> <td>   0.754</td>\n",
       "</tr>\n",
       "<tr>\n",
       "  <th>Model:</th>                   <td>OLS</td>       <th>  Adj. R-squared:    </th> <td>   0.696</td>\n",
       "</tr>\n",
       "<tr>\n",
       "  <th>Method:</th>             <td>Least Squares</td>  <th>  F-statistic:       </th> <td>   13.00</td>\n",
       "</tr>\n",
       "<tr>\n",
       "  <th>Date:</th>             <td>Mon, 03 Jul 2023</td> <th>  Prob (F-statistic):</th> <td>5.00e-05</td>\n",
       "</tr>\n",
       "<tr>\n",
       "  <th>Time:</th>                 <td>14:19:06</td>     <th>  Log-Likelihood:    </th> <td> -313.45</td>\n",
       "</tr>\n",
       "<tr>\n",
       "  <th>No. Observations:</th>      <td>    22</td>      <th>  AIC:               </th> <td>   636.9</td>\n",
       "</tr>\n",
       "<tr>\n",
       "  <th>Df Residuals:</th>          <td>    17</td>      <th>  BIC:               </th> <td>   642.4</td>\n",
       "</tr>\n",
       "<tr>\n",
       "  <th>Df Model:</th>              <td>     4</td>      <th>                     </th>     <td> </td>   \n",
       "</tr>\n",
       "<tr>\n",
       "  <th>Covariance Type:</th>      <td>nonrobust</td>    <th>                     </th>     <td> </td>   \n",
       "</tr>\n",
       "</table>\n",
       "<table class=\"simpletable\">\n",
       "<tr>\n",
       "              <td></td>                 <th>coef</th>     <th>std err</th>      <th>t</th>      <th>P>|t|</th>  <th>[0.025</th>    <th>0.975]</th>  \n",
       "</tr>\n",
       "<tr>\n",
       "  <th>Intercept</th>                 <td>-6.373e+04</td> <td> 2.45e+05</td> <td>   -0.260</td> <td> 0.798</td> <td> -5.8e+05</td> <td> 4.53e+05</td>\n",
       "</tr>\n",
       "<tr>\n",
       "  <th>structureName[T.dumbKNN]</th>  <td> 9.995e+05</td> <td> 2.27e+05</td> <td>    4.409</td> <td> 0.000</td> <td> 5.21e+05</td> <td> 1.48e+06</td>\n",
       "</tr>\n",
       "<tr>\n",
       "  <th>structureName[T.kdTree]</th>   <td> 6.041e+04</td> <td> 2.27e+05</td> <td>    0.266</td> <td> 0.793</td> <td>-4.18e+05</td> <td> 5.39e+05</td>\n",
       "</tr>\n",
       "<tr>\n",
       "  <th>structureName[T.quadTree]</th> <td> 2.672e+06</td> <td> 4.63e+05</td> <td>    5.775</td> <td> 0.000</td> <td>  1.7e+06</td> <td> 3.65e+06</td>\n",
       "</tr>\n",
       "<tr>\n",
       "  <th>dimension</th>                 <td> 7.253e+04</td> <td> 4.63e+04</td> <td>    1.567</td> <td> 0.135</td> <td>-2.51e+04</td> <td>  1.7e+05</td>\n",
       "</tr>\n",
       "</table>\n",
       "<table class=\"simpletable\">\n",
       "<tr>\n",
       "  <th>Omnibus:</th>       <td>20.173</td> <th>  Durbin-Watson:     </th> <td>   1.427</td>\n",
       "</tr>\n",
       "<tr>\n",
       "  <th>Prob(Omnibus):</th> <td> 0.000</td> <th>  Jarque-Bera (JB):  </th> <td>  25.595</td>\n",
       "</tr>\n",
       "<tr>\n",
       "  <th>Skew:</th>          <td> 1.826</td> <th>  Prob(JB):          </th> <td>2.77e-06</td>\n",
       "</tr>\n",
       "<tr>\n",
       "  <th>Kurtosis:</th>      <td> 6.819</td> <th>  Cond. No.          </th> <td>    24.3</td>\n",
       "</tr>\n",
       "</table><br/><br/>Notes:<br/>[1] Standard Errors assume that the covariance matrix of the errors is correctly specified."
      ],
      "text/latex": [
       "\\begin{center}\n",
       "\\begin{tabular}{lclc}\n",
       "\\toprule\n",
       "\\textbf{Dep. Variable:}            &       time       & \\textbf{  R-squared:         } &     0.754   \\\\\n",
       "\\textbf{Model:}                    &       OLS        & \\textbf{  Adj. R-squared:    } &     0.696   \\\\\n",
       "\\textbf{Method:}                   &  Least Squares   & \\textbf{  F-statistic:       } &     13.00   \\\\\n",
       "\\textbf{Date:}                     & Mon, 03 Jul 2023 & \\textbf{  Prob (F-statistic):} &  5.00e-05   \\\\\n",
       "\\textbf{Time:}                     &     14:19:06     & \\textbf{  Log-Likelihood:    } &   -313.45   \\\\\n",
       "\\textbf{No. Observations:}         &          22      & \\textbf{  AIC:               } &     636.9   \\\\\n",
       "\\textbf{Df Residuals:}             &          17      & \\textbf{  BIC:               } &     642.4   \\\\\n",
       "\\textbf{Df Model:}                 &           4      & \\textbf{                     } &             \\\\\n",
       "\\textbf{Covariance Type:}          &    nonrobust     & \\textbf{                     } &             \\\\\n",
       "\\bottomrule\n",
       "\\end{tabular}\n",
       "\\begin{tabular}{lcccccc}\n",
       "                                   & \\textbf{coef} & \\textbf{std err} & \\textbf{t} & \\textbf{P$> |$t$|$} & \\textbf{[0.025} & \\textbf{0.975]}  \\\\\n",
       "\\midrule\n",
       "\\textbf{Intercept}                 &   -6.373e+04  &     2.45e+05     &    -0.260  &         0.798        &     -5.8e+05    &     4.53e+05     \\\\\n",
       "\\textbf{structureName[T.dumbKNN]}  &    9.995e+05  &     2.27e+05     &     4.409  &         0.000        &     5.21e+05    &     1.48e+06     \\\\\n",
       "\\textbf{structureName[T.kdTree]}   &    6.041e+04  &     2.27e+05     &     0.266  &         0.793        &    -4.18e+05    &     5.39e+05     \\\\\n",
       "\\textbf{structureName[T.quadTree]} &    2.672e+06  &     4.63e+05     &     5.775  &         0.000        &      1.7e+06    &     3.65e+06     \\\\\n",
       "\\textbf{dimension}                 &    7.253e+04  &     4.63e+04     &     1.567  &         0.135        &    -2.51e+04    &      1.7e+05     \\\\\n",
       "\\bottomrule\n",
       "\\end{tabular}\n",
       "\\begin{tabular}{lclc}\n",
       "\\textbf{Omnibus:}       & 20.173 & \\textbf{  Durbin-Watson:     } &    1.427  \\\\\n",
       "\\textbf{Prob(Omnibus):} &  0.000 & \\textbf{  Jarque-Bera (JB):  } &   25.595  \\\\\n",
       "\\textbf{Skew:}          &  1.826 & \\textbf{  Prob(JB):          } & 2.77e-06  \\\\\n",
       "\\textbf{Kurtosis:}      &  6.819 & \\textbf{  Cond. No.          } &     24.3  \\\\\n",
       "\\bottomrule\n",
       "\\end{tabular}\n",
       "%\\caption{OLS Regression Results}\n",
       "\\end{center}\n",
       "\n",
       "Notes: \\newline\n",
       " [1] Standard Errors assume that the covariance matrix of the errors is correctly specified."
      ],
      "text/plain": [
       "<class 'statsmodels.iolib.summary.Summary'>\n",
       "\"\"\"\n",
       "                            OLS Regression Results                            \n",
       "==============================================================================\n",
       "Dep. Variable:                   time   R-squared:                       0.754\n",
       "Model:                            OLS   Adj. R-squared:                  0.696\n",
       "Method:                 Least Squares   F-statistic:                     13.00\n",
       "Date:                Mon, 03 Jul 2023   Prob (F-statistic):           5.00e-05\n",
       "Time:                        14:19:06   Log-Likelihood:                -313.45\n",
       "No. Observations:                  22   AIC:                             636.9\n",
       "Df Residuals:                      17   BIC:                             642.4\n",
       "Df Model:                           4                                         \n",
       "Covariance Type:            nonrobust                                         \n",
       "=============================================================================================\n",
       "                                coef    std err          t      P>|t|      [0.025      0.975]\n",
       "---------------------------------------------------------------------------------------------\n",
       "Intercept                 -6.373e+04   2.45e+05     -0.260      0.798    -5.8e+05    4.53e+05\n",
       "structureName[T.dumbKNN]   9.995e+05   2.27e+05      4.409      0.000    5.21e+05    1.48e+06\n",
       "structureName[T.kdTree]    6.041e+04   2.27e+05      0.266      0.793   -4.18e+05    5.39e+05\n",
       "structureName[T.quadTree]  2.672e+06   4.63e+05      5.775      0.000     1.7e+06    3.65e+06\n",
       "dimension                  7.253e+04   4.63e+04      1.567      0.135   -2.51e+04     1.7e+05\n",
       "==============================================================================\n",
       "Omnibus:                       20.173   Durbin-Watson:                   1.427\n",
       "Prob(Omnibus):                  0.000   Jarque-Bera (JB):               25.595\n",
       "Skew:                           1.826   Prob(JB):                     2.77e-06\n",
       "Kurtosis:                       6.819   Cond. No.                         24.3\n",
       "==============================================================================\n",
       "\n",
       "Notes:\n",
       "[1] Standard Errors assume that the covariance matrix of the errors is correctly specified.\n",
       "\"\"\""
      ]
     },
     "execution_count": 27,
     "metadata": {},
     "output_type": "execute_result"
    }
   ],
   "source": [
    "dimDataResult = sm.ols(formula=\"time ~ dimension + structureName\", data=dimData).fit()\n",
    "dimDataResult.summary()"
   ]
  },
  {
   "cell_type": "markdown",
   "id": "a1a2d74c",
   "metadata": {},
   "source": [
    "## Gaussian Data"
   ]
  },
  {
   "cell_type": "code",
   "execution_count": 10,
   "id": "ef828499",
   "metadata": {},
   "outputs": [],
   "source": [
    "dfGaussian = pd.read_csv(\"gaussianData.csv\")"
   ]
  },
  {
   "cell_type": "code",
   "execution_count": 11,
   "id": "dd2ed417",
   "metadata": {},
   "outputs": [],
   "source": [
    "kData = dfGaussian[(dfGaussian[\"n\"] == 100000) & (dfGaussian[\"dimension\"] == 2)]\n",
    "nData = dfGaussian[(dfGaussian[\"k\"] == 16) & (dfGaussian[\"dimension\"] == 2)]\n",
    "dimData = dfGaussian[(dfGaussian[\"n\"] == 100000) & (dfGaussian[\"k\"] == 16)]"
   ]
  },
  {
   "cell_type": "markdown",
   "id": "1594f160",
   "metadata": {},
   "source": [
    "### Plot with variance in k"
   ]
  },
  {
   "cell_type": "code",
   "execution_count": 12,
   "id": "ced1cfc1",
   "metadata": {},
   "outputs": [
    {
     "data": {
      "text/plain": [
       "structureName\n",
       "bucketKNN    Axes(0.125,0.11;0.775x0.77)\n",
       "dumbKNN      Axes(0.125,0.11;0.775x0.77)\n",
       "kdTree       Axes(0.125,0.11;0.775x0.77)\n",
       "quadTree     Axes(0.125,0.11;0.775x0.77)\n",
       "Name: time, dtype: object"
      ]
     },
     "execution_count": 12,
     "metadata": {},
     "output_type": "execute_result"
    },
    {
     "data": {
      "image/png": "[encoded data removed]",
      "text/plain": [
       "<Figure size 640x480 with 1 Axes>"
      ]
     },
     "metadata": {},
     "output_type": "display_data"
    }
   ],
   "source": [
    "kData.set_index(\"k\").groupby(\"structureName\")[\"time\"].plot(legend=True)"
   ]
  },
  {
   "cell_type": "code",
   "execution_count": 16,
   "id": "b6626b8c",
   "metadata": {},
   "outputs": [
    {
     "data": {
      "text/html": [
       "<table class=\"simpletable\">\n",
       "<caption>OLS Regression Results</caption>\n",
       "<tr>\n",
       "  <th>Dep. Variable:</th>          <td>time</td>       <th>  R-squared:         </th> <td>   0.836</td>\n",
       "</tr>\n",
       "<tr>\n",
       "  <th>Model:</th>                   <td>OLS</td>       <th>  Adj. R-squared:    </th> <td>   0.793</td>\n",
       "</tr>\n",
       "<tr>\n",
       "  <th>Method:</th>             <td>Least Squares</td>  <th>  F-statistic:       </th> <td>   19.14</td>\n",
       "</tr>\n",
       "<tr>\n",
       "  <th>Date:</th>             <td>Mon, 03 Jul 2023</td> <th>  Prob (F-statistic):</th> <td>9.31e-06</td>\n",
       "</tr>\n",
       "<tr>\n",
       "  <th>Time:</th>                 <td>14:13:17</td>     <th>  Log-Likelihood:    </th> <td> -280.64</td>\n",
       "</tr>\n",
       "<tr>\n",
       "  <th>No. Observations:</th>      <td>    20</td>      <th>  AIC:               </th> <td>   571.3</td>\n",
       "</tr>\n",
       "<tr>\n",
       "  <th>Df Residuals:</th>          <td>    15</td>      <th>  BIC:               </th> <td>   576.3</td>\n",
       "</tr>\n",
       "<tr>\n",
       "  <th>Df Model:</th>              <td>     4</td>      <th>                     </th>     <td> </td>   \n",
       "</tr>\n",
       "<tr>\n",
       "  <th>Covariance Type:</th>      <td>nonrobust</td>    <th>                     </th>     <td> </td>   \n",
       "</tr>\n",
       "</table>\n",
       "<table class=\"simpletable\">\n",
       "<tr>\n",
       "              <td></td>                 <th>coef</th>     <th>std err</th>      <th>t</th>      <th>P>|t|</th>  <th>[0.025</th>    <th>0.975]</th>  \n",
       "</tr>\n",
       "<tr>\n",
       "  <th>Intercept</th>                 <td>-2.898e+05</td> <td>    2e+05</td> <td>   -1.447</td> <td> 0.168</td> <td>-7.17e+05</td> <td> 1.37e+05</td>\n",
       "</tr>\n",
       "<tr>\n",
       "  <th>structureName[T.dumbKNN]</th>  <td>     3e+05</td> <td> 2.19e+05</td> <td>    1.367</td> <td> 0.192</td> <td>-1.68e+05</td> <td> 7.68e+05</td>\n",
       "</tr>\n",
       "<tr>\n",
       "  <th>structureName[T.kdTree]</th>   <td>-1.039e+05</td> <td> 2.19e+05</td> <td>   -0.474</td> <td> 0.643</td> <td>-5.72e+05</td> <td> 3.64e+05</td>\n",
       "</tr>\n",
       "<tr>\n",
       "  <th>structureName[T.quadTree]</th> <td> 1.462e+06</td> <td> 2.19e+05</td> <td>    6.662</td> <td> 0.000</td> <td> 9.94e+05</td> <td> 1.93e+06</td>\n",
       "</tr>\n",
       "<tr>\n",
       "  <th>k</th>                         <td> 5.524e+04</td> <td> 1.58e+04</td> <td>    3.489</td> <td> 0.003</td> <td> 2.15e+04</td> <td>  8.9e+04</td>\n",
       "</tr>\n",
       "</table>\n",
       "<table class=\"simpletable\">\n",
       "<tr>\n",
       "  <th>Omnibus:</th>       <td> 2.228</td> <th>  Durbin-Watson:     </th> <td>   0.705</td>\n",
       "</tr>\n",
       "<tr>\n",
       "  <th>Prob(Omnibus):</th> <td> 0.328</td> <th>  Jarque-Bera (JB):  </th> <td>   0.733</td>\n",
       "</tr>\n",
       "<tr>\n",
       "  <th>Skew:</th>          <td>-0.272</td> <th>  Prob(JB):          </th> <td>   0.693</td>\n",
       "</tr>\n",
       "<tr>\n",
       "  <th>Kurtosis:</th>      <td> 3.764</td> <th>  Cond. No.          </th> <td>    41.8</td>\n",
       "</tr>\n",
       "</table><br/><br/>Notes:<br/>[1] Standard Errors assume that the covariance matrix of the errors is correctly specified."
      ],
      "text/latex": [
       "\\begin{center}\n",
       "\\begin{tabular}{lclc}\n",
       "\\toprule\n",
       "\\textbf{Dep. Variable:}            &       time       & \\textbf{  R-squared:         } &     0.836   \\\\\n",
       "\\textbf{Model:}                    &       OLS        & \\textbf{  Adj. R-squared:    } &     0.793   \\\\\n",
       "\\textbf{Method:}                   &  Least Squares   & \\textbf{  F-statistic:       } &     19.14   \\\\\n",
       "\\textbf{Date:}                     & Mon, 03 Jul 2023 & \\textbf{  Prob (F-statistic):} &  9.31e-06   \\\\\n",
       "\\textbf{Time:}                     &     14:13:17     & \\textbf{  Log-Likelihood:    } &   -280.64   \\\\\n",
       "\\textbf{No. Observations:}         &          20      & \\textbf{  AIC:               } &     571.3   \\\\\n",
       "\\textbf{Df Residuals:}             &          15      & \\textbf{  BIC:               } &     576.3   \\\\\n",
       "\\textbf{Df Model:}                 &           4      & \\textbf{                     } &             \\\\\n",
       "\\textbf{Covariance Type:}          &    nonrobust     & \\textbf{                     } &             \\\\\n",
       "\\bottomrule\n",
       "\\end{tabular}\n",
       "\\begin{tabular}{lcccccc}\n",
       "                                   & \\textbf{coef} & \\textbf{std err} & \\textbf{t} & \\textbf{P$> |$t$|$} & \\textbf{[0.025} & \\textbf{0.975]}  \\\\\n",
       "\\midrule\n",
       "\\textbf{Intercept}                 &   -2.898e+05  &        2e+05     &    -1.447  &         0.168        &    -7.17e+05    &     1.37e+05     \\\\\n",
       "\\textbf{structureName[T.dumbKNN]}  &        3e+05  &     2.19e+05     &     1.367  &         0.192        &    -1.68e+05    &     7.68e+05     \\\\\n",
       "\\textbf{structureName[T.kdTree]}   &   -1.039e+05  &     2.19e+05     &    -0.474  &         0.643        &    -5.72e+05    &     3.64e+05     \\\\\n",
       "\\textbf{structureName[T.quadTree]} &    1.462e+06  &     2.19e+05     &     6.662  &         0.000        &     9.94e+05    &     1.93e+06     \\\\\n",
       "\\textbf{k}                         &    5.524e+04  &     1.58e+04     &     3.489  &         0.003        &     2.15e+04    &      8.9e+04     \\\\\n",
       "\\bottomrule\n",
       "\\end{tabular}\n",
       "\\begin{tabular}{lclc}\n",
       "\\textbf{Omnibus:}       &  2.228 & \\textbf{  Durbin-Watson:     } &    0.705  \\\\\n",
       "\\textbf{Prob(Omnibus):} &  0.328 & \\textbf{  Jarque-Bera (JB):  } &    0.733  \\\\\n",
       "\\textbf{Skew:}          & -0.272 & \\textbf{  Prob(JB):          } &    0.693  \\\\\n",
       "\\textbf{Kurtosis:}      &  3.764 & \\textbf{  Cond. No.          } &     41.8  \\\\\n",
       "\\bottomrule\n",
       "\\end{tabular}\n",
       "%\\caption{OLS Regression Results}\n",
       "\\end{center}\n",
       "\n",
       "Notes: \\newline\n",
       " [1] Standard Errors assume that the covariance matrix of the errors is correctly specified."
      ],
      "text/plain": [
       "<class 'statsmodels.iolib.summary.Summary'>\n",
       "\"\"\"\n",
       "                            OLS Regression Results                            \n",
       "==============================================================================\n",
       "Dep. Variable:                   time   R-squared:                       0.836\n",
       "Model:                            OLS   Adj. R-squared:                  0.793\n",
       "Method:                 Least Squares   F-statistic:                     19.14\n",
       "Date:                Mon, 03 Jul 2023   Prob (F-statistic):           9.31e-06\n",
       "Time:                        14:13:17   Log-Likelihood:                -280.64\n",
       "No. Observations:                  20   AIC:                             571.3\n",
       "Df Residuals:                      15   BIC:                             576.3\n",
       "Df Model:                           4                                         \n",
       "Covariance Type:            nonrobust                                         \n",
       "=============================================================================================\n",
       "                                coef    std err          t      P>|t|      [0.025      0.975]\n",
       "---------------------------------------------------------------------------------------------\n",
       "Intercept                 -2.898e+05      2e+05     -1.447      0.168   -7.17e+05    1.37e+05\n",
       "structureName[T.dumbKNN]       3e+05   2.19e+05      1.367      0.192   -1.68e+05    7.68e+05\n",
       "structureName[T.kdTree]   -1.039e+05   2.19e+05     -0.474      0.643   -5.72e+05    3.64e+05\n",
       "structureName[T.quadTree]  1.462e+06   2.19e+05      6.662      0.000    9.94e+05    1.93e+06\n",
       "k                          5.524e+04   1.58e+04      3.489      0.003    2.15e+04     8.9e+04\n",
       "==============================================================================\n",
       "Omnibus:                        2.228   Durbin-Watson:                   0.705\n",
       "Prob(Omnibus):                  0.328   Jarque-Bera (JB):                0.733\n",
       "Skew:                          -0.272   Prob(JB):                        0.693\n",
       "Kurtosis:                       3.764   Cond. No.                         41.8\n",
       "==============================================================================\n",
       "\n",
       "Notes:\n",
       "[1] Standard Errors assume that the covariance matrix of the errors is correctly specified.\n",
       "\"\"\""
      ]
     },
     "execution_count": 16,
     "metadata": {},
     "output_type": "execute_result"
    }
   ],
   "source": [
    "kDataResult = sm.ols(formula=\"time ~ k + structureName\", data=kData).fit()\n",
    "kDataResult.summary()"
   ]
  },
  {
   "cell_type": "markdown",
   "id": "a29d4e29",
   "metadata": {},
   "source": [
    "### Plot with variance in N"
   ]
  },
  {
   "cell_type": "code",
   "execution_count": 13,
   "id": "e46d6706",
   "metadata": {},
   "outputs": [
    {
     "data": {
      "text/plain": [
       "structureName\n",
       "bucketKNN    Axes(0.125,0.11;0.775x0.77)\n",
       "dumbKNN      Axes(0.125,0.11;0.775x0.77)\n",
       "kdTree       Axes(0.125,0.11;0.775x0.77)\n",
       "quadTree     Axes(0.125,0.11;0.775x0.77)\n",
       "Name: time, dtype: object"
      ]
     },
     "execution_count": 13,
     "metadata": {},
     "output_type": "execute_result"
    },
    {
     "data": {
      "image/png": "[encoded data removed]",
      "text/plain": [
       "<Figure size 640x480 with 1 Axes>"
      ]
     },
     "metadata": {},
     "output_type": "display_data"
    }
   ],
   "source": [
    "nData.set_index(\"n\").groupby(\"structureName\")[\"time\"].plot(legend=True)"
   ]
  },
  {
   "cell_type": "code",
   "execution_count": 17,
   "id": "67a7224b",
   "metadata": {},
   "outputs": [
    {
     "name": "stderr",
     "output_type": "stream",
     "text": [
      "/Library/Frameworks/Python.framework/Versions/3.11/lib/python3.11/site-packages/scipy/stats/_stats_py.py:1736: UserWarning: kurtosistest only valid for n>=20 ... continuing anyway, n=16\n",
      "  warnings.warn(\"kurtosistest only valid for n>=20 ... continuing \"\n"
     ]
    },
    {
     "data": {
      "text/html": [
       "<table class=\"simpletable\">\n",
       "<caption>OLS Regression Results</caption>\n",
       "<tr>\n",
       "  <th>Dep. Variable:</th>          <td>time</td>       <th>  R-squared:         </th> <td>   0.538</td>\n",
       "</tr>\n",
       "<tr>\n",
       "  <th>Model:</th>                   <td>OLS</td>       <th>  Adj. R-squared:    </th> <td>   0.370</td>\n",
       "</tr>\n",
       "<tr>\n",
       "  <th>Method:</th>             <td>Least Squares</td>  <th>  F-statistic:       </th> <td>   3.202</td>\n",
       "</tr>\n",
       "<tr>\n",
       "  <th>Date:</th>             <td>Mon, 03 Jul 2023</td> <th>  Prob (F-statistic):</th>  <td>0.0567</td> \n",
       "</tr>\n",
       "<tr>\n",
       "  <th>Time:</th>                 <td>14:15:06</td>     <th>  Log-Likelihood:    </th> <td> -230.76</td>\n",
       "</tr>\n",
       "<tr>\n",
       "  <th>No. Observations:</th>      <td>    16</td>      <th>  AIC:               </th> <td>   471.5</td>\n",
       "</tr>\n",
       "<tr>\n",
       "  <th>Df Residuals:</th>          <td>    11</td>      <th>  BIC:               </th> <td>   475.4</td>\n",
       "</tr>\n",
       "<tr>\n",
       "  <th>Df Model:</th>              <td>     4</td>      <th>                     </th>     <td> </td>   \n",
       "</tr>\n",
       "<tr>\n",
       "  <th>Covariance Type:</th>      <td>nonrobust</td>    <th>                     </th>     <td> </td>   \n",
       "</tr>\n",
       "</table>\n",
       "<table class=\"simpletable\">\n",
       "<tr>\n",
       "              <td></td>                 <th>coef</th>     <th>std err</th>      <th>t</th>      <th>P>|t|</th>  <th>[0.025</th>    <th>0.975]</th>  \n",
       "</tr>\n",
       "<tr>\n",
       "  <th>Intercept</th>                 <td>-1.144e+05</td> <td> 2.82e+05</td> <td>   -0.405</td> <td> 0.693</td> <td>-7.35e+05</td> <td> 5.07e+05</td>\n",
       "</tr>\n",
       "<tr>\n",
       "  <th>structureName[T.dumbKNN]</th>  <td> 6.858e+04</td> <td> 3.79e+05</td> <td>    0.181</td> <td> 0.860</td> <td>-7.65e+05</td> <td> 9.02e+05</td>\n",
       "</tr>\n",
       "<tr>\n",
       "  <th>structureName[T.kdTree]</th>   <td>-1.038e+05</td> <td> 3.79e+05</td> <td>   -0.274</td> <td> 0.789</td> <td>-9.37e+05</td> <td>  7.3e+05</td>\n",
       "</tr>\n",
       "<tr>\n",
       "  <th>structureName[T.quadTree]</th> <td> 6.145e+05</td> <td> 3.79e+05</td> <td>    1.622</td> <td> 0.133</td> <td>-2.19e+05</td> <td> 1.45e+06</td>\n",
       "</tr>\n",
       "<tr>\n",
       "  <th>n</th>                         <td>    9.3207</td> <td>    3.197</td> <td>    2.915</td> <td> 0.014</td> <td>    2.283</td> <td>   16.358</td>\n",
       "</tr>\n",
       "</table>\n",
       "<table class=\"simpletable\">\n",
       "<tr>\n",
       "  <th>Omnibus:</th>       <td> 8.946</td> <th>  Durbin-Watson:     </th> <td>   1.582</td>\n",
       "</tr>\n",
       "<tr>\n",
       "  <th>Prob(Omnibus):</th> <td> 0.011</td> <th>  Jarque-Bera (JB):  </th> <td>   5.647</td>\n",
       "</tr>\n",
       "<tr>\n",
       "  <th>Skew:</th>          <td> 1.077</td> <th>  Prob(JB):          </th> <td>  0.0594</td>\n",
       "</tr>\n",
       "<tr>\n",
       "  <th>Kurtosis:</th>      <td> 4.958</td> <th>  Cond. No.          </th> <td>2.20e+05</td>\n",
       "</tr>\n",
       "</table><br/><br/>Notes:<br/>[1] Standard Errors assume that the covariance matrix of the errors is correctly specified.<br/>[2] The condition number is large, 2.2e+05. This might indicate that there are<br/>strong multicollinearity or other numerical problems."
      ],
      "text/latex": [
       "\\begin{center}\n",
       "\\begin{tabular}{lclc}\n",
       "\\toprule\n",
       "\\textbf{Dep. Variable:}            &       time       & \\textbf{  R-squared:         } &     0.538   \\\\\n",
       "\\textbf{Model:}                    &       OLS        & \\textbf{  Adj. R-squared:    } &     0.370   \\\\\n",
       "\\textbf{Method:}                   &  Least Squares   & \\textbf{  F-statistic:       } &     3.202   \\\\\n",
       "\\textbf{Date:}                     & Mon, 03 Jul 2023 & \\textbf{  Prob (F-statistic):} &   0.0567    \\\\\n",
       "\\textbf{Time:}                     &     14:15:06     & \\textbf{  Log-Likelihood:    } &   -230.76   \\\\\n",
       "\\textbf{No. Observations:}         &          16      & \\textbf{  AIC:               } &     471.5   \\\\\n",
       "\\textbf{Df Residuals:}             &          11      & \\textbf{  BIC:               } &     475.4   \\\\\n",
       "\\textbf{Df Model:}                 &           4      & \\textbf{                     } &             \\\\\n",
       "\\textbf{Covariance Type:}          &    nonrobust     & \\textbf{                     } &             \\\\\n",
       "\\bottomrule\n",
       "\\end{tabular}\n",
       "\\begin{tabular}{lcccccc}\n",
       "                                   & \\textbf{coef} & \\textbf{std err} & \\textbf{t} & \\textbf{P$> |$t$|$} & \\textbf{[0.025} & \\textbf{0.975]}  \\\\\n",
       "\\midrule\n",
       "\\textbf{Intercept}                 &   -1.144e+05  &     2.82e+05     &    -0.405  &         0.693        &    -7.35e+05    &     5.07e+05     \\\\\n",
       "\\textbf{structureName[T.dumbKNN]}  &    6.858e+04  &     3.79e+05     &     0.181  &         0.860        &    -7.65e+05    &     9.02e+05     \\\\\n",
       "\\textbf{structureName[T.kdTree]}   &   -1.038e+05  &     3.79e+05     &    -0.274  &         0.789        &    -9.37e+05    &      7.3e+05     \\\\\n",
       "\\textbf{structureName[T.quadTree]} &    6.145e+05  &     3.79e+05     &     1.622  &         0.133        &    -2.19e+05    &     1.45e+06     \\\\\n",
       "\\textbf{n}                         &       9.3207  &        3.197     &     2.915  &         0.014        &        2.283    &       16.358     \\\\\n",
       "\\bottomrule\n",
       "\\end{tabular}\n",
       "\\begin{tabular}{lclc}\n",
       "\\textbf{Omnibus:}       &  8.946 & \\textbf{  Durbin-Watson:     } &    1.582  \\\\\n",
       "\\textbf{Prob(Omnibus):} &  0.011 & \\textbf{  Jarque-Bera (JB):  } &    5.647  \\\\\n",
       "\\textbf{Skew:}          &  1.077 & \\textbf{  Prob(JB):          } &   0.0594  \\\\\n",
       "\\textbf{Kurtosis:}      &  4.958 & \\textbf{  Cond. No.          } & 2.20e+05  \\\\\n",
       "\\bottomrule\n",
       "\\end{tabular}\n",
       "%\\caption{OLS Regression Results}\n",
       "\\end{center}\n",
       "\n",
       "Notes: \\newline\n",
       " [1] Standard Errors assume that the covariance matrix of the errors is correctly specified. \\newline\n",
       " [2] The condition number is large, 2.2e+05. This might indicate that there are \\newline\n",
       " strong multicollinearity or other numerical problems."
      ],
      "text/plain": [
       "<class 'statsmodels.iolib.summary.Summary'>\n",
       "\"\"\"\n",
       "                            OLS Regression Results                            \n",
       "==============================================================================\n",
       "Dep. Variable:                   time   R-squared:                       0.538\n",
       "Model:                            OLS   Adj. R-squared:                  0.370\n",
       "Method:                 Least Squares   F-statistic:                     3.202\n",
       "Date:                Mon, 03 Jul 2023   Prob (F-statistic):             0.0567\n",
       "Time:                        14:15:06   Log-Likelihood:                -230.76\n",
       "No. Observations:                  16   AIC:                             471.5\n",
       "Df Residuals:                      11   BIC:                             475.4\n",
       "Df Model:                           4                                         \n",
       "Covariance Type:            nonrobust                                         \n",
       "=============================================================================================\n",
       "                                coef    std err          t      P>|t|      [0.025      0.975]\n",
       "---------------------------------------------------------------------------------------------\n",
       "Intercept                 -1.144e+05   2.82e+05     -0.405      0.693   -7.35e+05    5.07e+05\n",
       "structureName[T.dumbKNN]   6.858e+04   3.79e+05      0.181      0.860   -7.65e+05    9.02e+05\n",
       "structureName[T.kdTree]   -1.038e+05   3.79e+05     -0.274      0.789   -9.37e+05     7.3e+05\n",
       "structureName[T.quadTree]  6.145e+05   3.79e+05      1.622      0.133   -2.19e+05    1.45e+06\n",
       "n                             9.3207      3.197      2.915      0.014       2.283      16.358\n",
       "==============================================================================\n",
       "Omnibus:                        8.946   Durbin-Watson:                   1.582\n",
       "Prob(Omnibus):                  0.011   Jarque-Bera (JB):                5.647\n",
       "Skew:                           1.077   Prob(JB):                       0.0594\n",
       "Kurtosis:                       4.958   Cond. No.                     2.20e+05\n",
       "==============================================================================\n",
       "\n",
       "Notes:\n",
       "[1] Standard Errors assume that the covariance matrix of the errors is correctly specified.\n",
       "[2] The condition number is large, 2.2e+05. This might indicate that there are\n",
       "strong multicollinearity or other numerical problems.\n",
       "\"\"\""
      ]
     },
     "execution_count": 17,
     "metadata": {},
     "output_type": "execute_result"
    }
   ],
   "source": [
    "nDataResult = sm.ols(formula=\"time ~ n + structureName\", data=nData).fit()\n",
    "nDataResult.summary()"
   ]
  },
  {
   "cell_type": "markdown",
   "id": "f4d3e531",
   "metadata": {},
   "source": [
    "### Plot with variance in the dimension"
   ]
  },
  {
   "cell_type": "code",
   "execution_count": 14,
   "id": "ac96c9a0",
   "metadata": {},
   "outputs": [
    {
     "data": {
      "text/plain": [
       "structureName\n",
       "bucketKNN    Axes(0.125,0.11;0.775x0.77)\n",
       "dumbKNN      Axes(0.125,0.11;0.775x0.77)\n",
       "kdTree       Axes(0.125,0.11;0.775x0.77)\n",
       "quadTree     Axes(0.125,0.11;0.775x0.77)\n",
       "Name: time, dtype: object"
      ]
     },
     "execution_count": 14,
     "metadata": {},
     "output_type": "execute_result"
    },
    {
     "data": {
      "image/png": "[encoded data removed]",
      "text/plain": [
       "<Figure size 640x480 with 1 Axes>"
      ]
     },
     "metadata": {},
     "output_type": "display_data"
    }
   ],
   "source": [
    "dimData.set_index(\"dimension\").groupby(\"structureName\")[\"time\"].plot(legend=True)"
   ]
  },
  {
   "cell_type": "code",
   "execution_count": 18,
   "id": "496c2f09",
   "metadata": {},
   "outputs": [
    {
     "data": {
      "text/html": [
       "<table class=\"simpletable\">\n",
       "<caption>OLS Regression Results</caption>\n",
       "<tr>\n",
       "  <th>Dep. Variable:</th>          <td>time</td>       <th>  R-squared:         </th> <td>   0.468</td>\n",
       "</tr>\n",
       "<tr>\n",
       "  <th>Model:</th>                   <td>OLS</td>       <th>  Adj. R-squared:    </th> <td>   0.343</td>\n",
       "</tr>\n",
       "<tr>\n",
       "  <th>Method:</th>             <td>Least Squares</td>  <th>  F-statistic:       </th> <td>   3.738</td>\n",
       "</tr>\n",
       "<tr>\n",
       "  <th>Date:</th>             <td>Mon, 03 Jul 2023</td> <th>  Prob (F-statistic):</th>  <td>0.0233</td> \n",
       "</tr>\n",
       "<tr>\n",
       "  <th>Time:</th>                 <td>14:15:59</td>     <th>  Log-Likelihood:    </th> <td> -368.54</td>\n",
       "</tr>\n",
       "<tr>\n",
       "  <th>No. Observations:</th>      <td>    22</td>      <th>  AIC:               </th> <td>   747.1</td>\n",
       "</tr>\n",
       "<tr>\n",
       "  <th>Df Residuals:</th>          <td>    17</td>      <th>  BIC:               </th> <td>   752.5</td>\n",
       "</tr>\n",
       "<tr>\n",
       "  <th>Df Model:</th>              <td>     4</td>      <th>                     </th>     <td> </td>   \n",
       "</tr>\n",
       "<tr>\n",
       "  <th>Covariance Type:</th>      <td>nonrobust</td>    <th>                     </th>     <td> </td>   \n",
       "</tr>\n",
       "</table>\n",
       "<table class=\"simpletable\">\n",
       "<tr>\n",
       "              <td></td>                 <th>coef</th>     <th>std err</th>      <th>t</th>      <th>P>|t|</th>  <th>[0.025</th>    <th>0.975]</th>  \n",
       "</tr>\n",
       "<tr>\n",
       "  <th>Intercept</th>                 <td> 2.007e+06</td> <td>    3e+06</td> <td>    0.670</td> <td> 0.512</td> <td>-4.31e+06</td> <td> 8.33e+06</td>\n",
       "</tr>\n",
       "<tr>\n",
       "  <th>structureName[T.dumbKNN]</th>  <td>-6.521e+06</td> <td> 2.77e+06</td> <td>   -2.351</td> <td> 0.031</td> <td>-1.24e+07</td> <td> -6.7e+05</td>\n",
       "</tr>\n",
       "<tr>\n",
       "  <th>structureName[T.kdTree]</th>   <td>-7.436e+06</td> <td> 2.77e+06</td> <td>   -2.681</td> <td> 0.016</td> <td>-1.33e+07</td> <td>-1.58e+06</td>\n",
       "</tr>\n",
       "<tr>\n",
       "  <th>structureName[T.quadTree]</th> <td>-2.154e+06</td> <td> 5.66e+06</td> <td>   -0.380</td> <td> 0.708</td> <td>-1.41e+07</td> <td> 9.79e+06</td>\n",
       "</tr>\n",
       "<tr>\n",
       "  <th>dimension</th>                 <td> 1.432e+06</td> <td> 5.66e+05</td> <td>    2.529</td> <td> 0.022</td> <td> 2.37e+05</td> <td> 2.63e+06</td>\n",
       "</tr>\n",
       "</table>\n",
       "<table class=\"simpletable\">\n",
       "<tr>\n",
       "  <th>Omnibus:</th>       <td>20.648</td> <th>  Durbin-Watson:     </th> <td>   1.105</td>\n",
       "</tr>\n",
       "<tr>\n",
       "  <th>Prob(Omnibus):</th> <td> 0.000</td> <th>  Jarque-Bera (JB):  </th> <td>  27.952</td>\n",
       "</tr>\n",
       "<tr>\n",
       "  <th>Skew:</th>          <td> 1.801</td> <th>  Prob(JB):          </th> <td>8.52e-07</td>\n",
       "</tr>\n",
       "<tr>\n",
       "  <th>Kurtosis:</th>      <td> 7.185</td> <th>  Cond. No.          </th> <td>    24.3</td>\n",
       "</tr>\n",
       "</table><br/><br/>Notes:<br/>[1] Standard Errors assume that the covariance matrix of the errors is correctly specified."
      ],
      "text/latex": [
       "\\begin{center}\n",
       "\\begin{tabular}{lclc}\n",
       "\\toprule\n",
       "\\textbf{Dep. Variable:}            &       time       & \\textbf{  R-squared:         } &     0.468   \\\\\n",
       "\\textbf{Model:}                    &       OLS        & \\textbf{  Adj. R-squared:    } &     0.343   \\\\\n",
       "\\textbf{Method:}                   &  Least Squares   & \\textbf{  F-statistic:       } &     3.738   \\\\\n",
       "\\textbf{Date:}                     & Mon, 03 Jul 2023 & \\textbf{  Prob (F-statistic):} &   0.0233    \\\\\n",
       "\\textbf{Time:}                     &     14:15:59     & \\textbf{  Log-Likelihood:    } &   -368.54   \\\\\n",
       "\\textbf{No. Observations:}         &          22      & \\textbf{  AIC:               } &     747.1   \\\\\n",
       "\\textbf{Df Residuals:}             &          17      & \\textbf{  BIC:               } &     752.5   \\\\\n",
       "\\textbf{Df Model:}                 &           4      & \\textbf{                     } &             \\\\\n",
       "\\textbf{Covariance Type:}          &    nonrobust     & \\textbf{                     } &             \\\\\n",
       "\\bottomrule\n",
       "\\end{tabular}\n",
       "\\begin{tabular}{lcccccc}\n",
       "                                   & \\textbf{coef} & \\textbf{std err} & \\textbf{t} & \\textbf{P$> |$t$|$} & \\textbf{[0.025} & \\textbf{0.975]}  \\\\\n",
       "\\midrule\n",
       "\\textbf{Intercept}                 &    2.007e+06  &        3e+06     &     0.670  &         0.512        &    -4.31e+06    &     8.33e+06     \\\\\n",
       "\\textbf{structureName[T.dumbKNN]}  &   -6.521e+06  &     2.77e+06     &    -2.351  &         0.031        &    -1.24e+07    &     -6.7e+05     \\\\\n",
       "\\textbf{structureName[T.kdTree]}   &   -7.436e+06  &     2.77e+06     &    -2.681  &         0.016        &    -1.33e+07    &    -1.58e+06     \\\\\n",
       "\\textbf{structureName[T.quadTree]} &   -2.154e+06  &     5.66e+06     &    -0.380  &         0.708        &    -1.41e+07    &     9.79e+06     \\\\\n",
       "\\textbf{dimension}                 &    1.432e+06  &     5.66e+05     &     2.529  &         0.022        &     2.37e+05    &     2.63e+06     \\\\\n",
       "\\bottomrule\n",
       "\\end{tabular}\n",
       "\\begin{tabular}{lclc}\n",
       "\\textbf{Omnibus:}       & 20.648 & \\textbf{  Durbin-Watson:     } &    1.105  \\\\\n",
       "\\textbf{Prob(Omnibus):} &  0.000 & \\textbf{  Jarque-Bera (JB):  } &   27.952  \\\\\n",
       "\\textbf{Skew:}          &  1.801 & \\textbf{  Prob(JB):          } & 8.52e-07  \\\\\n",
       "\\textbf{Kurtosis:}      &  7.185 & \\textbf{  Cond. No.          } &     24.3  \\\\\n",
       "\\bottomrule\n",
       "\\end{tabular}\n",
       "%\\caption{OLS Regression Results}\n",
       "\\end{center}\n",
       "\n",
       "Notes: \\newline\n",
       " [1] Standard Errors assume that the covariance matrix of the errors is correctly specified."
      ],
      "text/plain": [
       "<class 'statsmodels.iolib.summary.Summary'>\n",
       "\"\"\"\n",
       "                            OLS Regression Results                            \n",
       "==============================================================================\n",
       "Dep. Variable:                   time   R-squared:                       0.468\n",
       "Model:                            OLS   Adj. R-squared:                  0.343\n",
       "Method:                 Least Squares   F-statistic:                     3.738\n",
       "Date:                Mon, 03 Jul 2023   Prob (F-statistic):             0.0233\n",
       "Time:                        14:15:59   Log-Likelihood:                -368.54\n",
       "No. Observations:                  22   AIC:                             747.1\n",
       "Df Residuals:                      17   BIC:                             752.5\n",
       "Df Model:                           4                                         \n",
       "Covariance Type:            nonrobust                                         \n",
       "=============================================================================================\n",
       "                                coef    std err          t      P>|t|      [0.025      0.975]\n",
       "---------------------------------------------------------------------------------------------\n",
       "Intercept                  2.007e+06      3e+06      0.670      0.512   -4.31e+06    8.33e+06\n",
       "structureName[T.dumbKNN]  -6.521e+06   2.77e+06     -2.351      0.031   -1.24e+07    -6.7e+05\n",
       "structureName[T.kdTree]   -7.436e+06   2.77e+06     -2.681      0.016   -1.33e+07   -1.58e+06\n",
       "structureName[T.quadTree] -2.154e+06   5.66e+06     -0.380      0.708   -1.41e+07    9.79e+06\n",
       "dimension                  1.432e+06   5.66e+05      2.529      0.022    2.37e+05    2.63e+06\n",
       "==============================================================================\n",
       "Omnibus:                       20.648   Durbin-Watson:                   1.105\n",
       "Prob(Omnibus):                  0.000   Jarque-Bera (JB):               27.952\n",
       "Skew:                           1.801   Prob(JB):                     8.52e-07\n",
       "Kurtosis:                       7.185   Cond. No.                         24.3\n",
       "==============================================================================\n",
       "\n",
       "Notes:\n",
       "[1] Standard Errors assume that the covariance matrix of the errors is correctly specified.\n",
       "\"\"\""
      ]
     },
     "execution_count": 18,
     "metadata": {},
     "output_type": "execute_result"
    }
   ],
   "source": [
    "dimDataResult = sm.ols(formula=\"time ~ dimension + structureName\", data=dimData).fit()\n",
    "dimDataResult.summary()"
   ]
  },
  {
   "cell_type": "markdown",
   "id": "ebd35460",
   "metadata": {},
   "source": [
    "## Assignment Questions to Answer: "
   ]
  },
  {
   "cell_type": "markdown",
   "id": "c41d994e",
   "metadata": {},
   "source": [
    "Plot parts of your data to make sense of it (what impact does K, N, D, and the data structure have?)\n",
    "\n",
    "    As k varies, bucketKNN perform the best with uniform data and kdtree performs the best with gaussian data, while quad tree performs the worst as k increases. BucketKNN performing the best with uniform data makes sense because it is used for uniform data, while quad trees do not work as well due to having so many splits. We know quad trees work best for non uniform data. In a knn query we are looking for the k points closest to the past in point. As k gets larger, it makes sense for all data structures to take longer because it has to search for more points.\n",
    "    As n increases, all structures increase in the time it takes to complete the knn query. This makes sense because there are just more points to look through and group. QuadTree is most affected by N (steeper slope), while kdTree does best (gaussian data). This makes sense to me because quadtrees have 4 possible children to loop through while kdTree just has left and right.\n",
    "    As dimesions vary, KDtree and dumbKNN stay pretty steady while the bucketKNN had more of a quadratic shape once it hits two dimensions. This tells us that we shouldnt work with bucketKNN if we have very high dimensional data. Note: we do not see quad tree on this graph because quad trees work in 2 dimensions. \n",
    "    It looks like overall, KD Tree tends to perform the best no matter what you are varying. I believe this is because with kd trees you split at the next dimmension each time, so you are better able to handle highly dimensional data while not having to handle to much of the junk data at the same time, making it more efficient"
   ]
  },
  {
   "cell_type": "markdown",
   "id": "ad52a52e",
   "metadata": {},
   "source": [
    "Perform regression based on the performance we expect to see. Do tests confirm or disprove our expectations? What run times do you expect to see based on simple big-O analysis?\n",
    "\n",
    "    Variance based on k gives us the highest r-squared value of 0.836, with k having a coefficient of 5.524e+04 and a p-value of 0.003. Variance based on N gives us the r-squared value of 0.538, with N having a coefficient of 9.3207 and a p-value of 0.014. Variance based on dimension gives us the r-squared value of 0.468, with dimension having a coefficient of 1.432e+06 and a p-value of 0.022. If our significance level is 0.05, we can say that all possible varaintions (k, N, dimension) have a statistically significant effect on the time it takes for the knn queries to complete. Also, though the linear regression for k is the most accurate based on the r-squared value, it's actually dimension that has the biggest coeeficient, telling us that changes in dimension are the best predictors of changes in time. I was surprsied N had the smallest beta because of what large effect it had on the quad tree run time, but I guess for the others it was not as significant. "
   ]
  },
  {
   "cell_type": "markdown",
   "id": "10038cc1",
   "metadata": {},
   "source": [
    "Are there any aspects of your data that seem unusual? Can you explain them?\n",
    "\n",
    "    The one thing that seems weird to me is the effect dimension had on the bucketKNN data structure. The time it takes get exponetially larger as the dimensions increase. I wonder if this could be due to the curse of dimensionality because as the dimensions go up, the configurations of data does as well, causing many more options to handle which takes more computing time and power "
   ]
  },
  {
   "cell_type": "code",
   "execution_count": null,
   "id": "97072d0b",
   "metadata": {},
   "outputs": [],
   "source": []
  }
 ],
 "metadata": {
  "kernelspec": {
   "display_name": "Python 3 (ipykernel)",
   "language": "python",
   "name": "python3"
  },
  "language_info": {
   "codemirror_mode": {
    "name": "ipython",
    "version": 3
   },
   "file_extension": ".py",
   "mimetype": "text/x-python",
   "name": "python",
   "nbconvert_exporter": "python",
   "pygments_lexer": "ipython3",
   "version": "3.11.1"
  }
 },
 "nbformat": 4,
 "nbformat_minor": 5
}
